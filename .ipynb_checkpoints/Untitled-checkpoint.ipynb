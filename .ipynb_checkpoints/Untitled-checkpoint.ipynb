{
 "cells": [
  {
   "cell_type": "code",
   "execution_count": 17,
   "metadata": {},
   "outputs": [
    {
     "name": "stderr",
     "output_type": "stream",
     "text": [
      "<ipython-input-17-88abd6158c60>:9: DeprecationWarning: use options instead of chrome_options\n",
      "  driver = webdriver.Chrome(r'C:\\Users\\geun\\chromedriver.exe',chrome_options=options)\n"
     ]
    }
   ],
   "source": [
    "from selenium import webdriver\n",
    "options = webdriver.ChromeOptions()\n",
    "options.add_argument('headless')\n",
    "options.add_argument(\"start-maximized\")\n",
    "options.add_argument(\"disable-infobars\")\n",
    "options.add_argument('window-size=1920x1080') \n",
    "options.add_argument(\"disable-gpu\")\n",
    "options.add_argument(\"--disable-extensions\")\n",
    "\n",
    "driver = webdriver.Chrome(r'C:\\Users\\geun\\chromedriver.exe',chrome_options=options)\n",
    "driver.get(\"https://www.imdb.com/search/title/?genres=adventure&explore=title_type,genres&view=simple\")\n",
    "    "
   ]
  },
  {
   "cell_type": "code",
   "execution_count": 22,
   "metadata": {},
   "outputs": [
    {
     "name": "stdout",
     "output_type": "stream",
     "text": [
      "Done!\n"
     ]
    }
   ],
   "source": [
    "list_ = driver.find_element_by_class_name('lister-list').find_elements_by_tag_name('tr')\n",
    "movieName = []\n",
    "imdbLinks = []\n",
    "smallPoster = []\n",
    "for movie in list_:\n",
    "    movie = movie.find_element_by_class_name('posterColumn').find_element_by_tag_name('a').find_element_by_tag_name('img').get_attribute('alt')\n",
    "    link = movie.find_element_by_class_name('titleColumn').find_element_by_tag_name('a').get_attribute('href')\n",
    "    posterLink = movie.find_element_by_class_name('posterColumn').find_element_by_tag_name('a').find_element_by_tag_name('img').get_attribute('src')\n",
    "    imdbLinks.append(link)\n",
    "    smallPoster.append(posterLink)\n",
    "    movieName.append(movie)\n",
    "\n",
    "print('Done!')"
   ]
  },
  {
   "cell_type": "code",
   "execution_count": null,
   "metadata": {},
   "outputs": [],
   "source": [
    "searchbox.click()\n",
    "searchbox.send_keys(\"The Thing\")"
   ]
  },
  {
   "cell_type": "code",
   "execution_count": null,
   "metadata": {},
   "outputs": [],
   "source": []
  }
 ],
 "metadata": {
  "kernelspec": {
   "display_name": "Python 3",
   "language": "python",
   "name": "python3"
  },
  "language_info": {
   "codemirror_mode": {
    "name": "ipython",
    "version": 3
   },
   "file_extension": ".py",
   "mimetype": "text/x-python",
   "name": "python",
   "nbconvert_exporter": "python",
   "pygments_lexer": "ipython3",
   "version": "3.8.5"
  }
 },
 "nbformat": 4,
 "nbformat_minor": 4
}
